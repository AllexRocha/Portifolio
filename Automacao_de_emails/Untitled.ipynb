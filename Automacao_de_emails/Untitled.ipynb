{
 "cells": [
  {
   "cell_type": "code",
   "execution_count": 1,
   "metadata": {},
   "outputs": [
    {
     "name": "stdout",
     "output_type": "stream",
     "text": [
      "Escreva o número da O.C.\n",
      "261285803\n"
     ]
    }
   ],
   "source": [
    "import pandas as pd\n",
    "\n",
    "\n",
    "import docx\n",
    "from docx import Document\n",
    "from docx.shared import Inches, Cm, Pt, Length\n",
    "from docx.enum.text import WD_ALIGN_PARAGRAPH\n",
    "from datetime import date\n",
    "\n",
    "\n",
    "\n",
    "df = pd.read_excel('random_data.xlsx')  # ler planilha de dados\n",
    "\n",
    "print(\"Escreva o número da O.C.\")\n",
    "merc_ref = [input()] # recebe o numero de referência da mercadoria\n",
    "\n",
    "# a parte de baixo separa as informações em cada variável que estão relacionadas ao cod. do produto\n",
    "cliente_nome = df[df.NUMERO_OC.isin(merc_ref)].iat[0,0]\n",
    "cliente_end = df[df.NUMERO_OC.isin(merc_ref)].iat[0,1]\n",
    "cliente_cep = df[df.NUMERO_OC.isin(merc_ref)].iat[0,2]\n",
    "data_entrega = df[df.NUMERO_OC.isin(merc_ref)].iat[0,3].strftime('%d/%m/%Y')\n",
    "num_OC = df[df.NUMERO_OC.isin(merc_ref)].iat[0,4]\n",
    "produto_nome = df[df.NUMERO_OC.isin(merc_ref)].iat[0,5]\n",
    "\n",
    "\n",
    "\n",
    "arquivo =open('docref.docx','rb') # Abrir arquivo de referÊncia para escrever\n",
    "document =Document(arquivo)\n",
    "paragraph = document.add_paragraph()   \n",
    "\n",
    "# Iniciar escrita\n",
    "paragraph = document.add_paragraph('Caro(a) ' + cliente_nome + ':')\n",
    "\n",
    "paragraph_format = paragraph.paragraph_format\n",
    "paragraph_format.line_spacing\n",
    "paragraph_format.line_spacing_rule\n",
    "paragraph_format.line_spacing = Pt(12)    #espaçamento de 12 pt\n",
    "\n",
    "paragraph = document.add_paragraph('Notificamos que na data ' + str(data_entrega) + ', tentamos entregar seu produto ' \n",
    "                       + produto_nome + ' com o número de referência ' + str(num_OC) + ' no endereço ' \n",
    "                       + cliente_end + ' de CEP ' + str(cliente_cep)+ '. Deve ter havido um mal-entendido em relação' \n",
    "                       ' a esta entrega porque não havia ninguém disponível para assinar o pedido na data de entrega'\n",
    "                       ' agendada, portanto não entregamos o pedido. Pedimos que entre em contato assim que for possível'\n",
    "                       'para que possamos agendar outra hora de entrega.')\n",
    "\n",
    "paragraph.alignment= WD_ALIGN_PARAGRAPH.JUSTIFY    #Justificar\n",
    "\n",
    "paragraph_format.line_spacing = Pt(12)   #espaçamento de 12 pt\n",
    "paragraph = document.add_paragraph('Mais uma vez, obrigado pelo pedido. Esperamos fazer sua entrega em breve' \n",
    "                       'e atender às suas necessidades no futuro.')\n",
    "\n",
    "paragraph.alignment= WD_ALIGN_PARAGRAPH.JUSTIFY    #Justificar\n",
    "\n",
    "paragraph_format.line_spacing = Pt(12)     #espaçamento de 12 pt\n",
    "paragraph = document.add_paragraph('Atenciosamente,')\n",
    "paragraph_format.line_spacing = Pt(12)\n",
    "paragraph = document.add_paragraph('Vert TECH')   #espaçamento de 12 pt\n",
    "\n",
    "\n",
    "document.save('email.docx') #salvar documento"
   ]
  },
  {
   "cell_type": "code",
   "execution_count": 2,
   "metadata": {},
   "outputs": [],
   "source": [
    "x = [1, 2, 3, 4, 5]"
   ]
  },
  {
   "cell_type": "code",
   "execution_count": 3,
   "metadata": {},
   "outputs": [
    {
     "data": {
      "text/plain": [
       "[1, 2, 3, 4, 5]"
      ]
     },
     "execution_count": 3,
     "metadata": {},
     "output_type": "execute_result"
    }
   ],
   "source": [
    "x"
   ]
  },
  {
   "cell_type": "code",
   "execution_count": 4,
   "metadata": {},
   "outputs": [],
   "source": [
    "x.append(6)"
   ]
  },
  {
   "cell_type": "code",
   "execution_count": 5,
   "metadata": {},
   "outputs": [
    {
     "data": {
      "text/plain": [
       "[1, 2, 3, 4, 5, 6]"
      ]
     },
     "execution_count": 5,
     "metadata": {},
     "output_type": "execute_result"
    }
   ],
   "source": [
    "x"
   ]
  }
 ],
 "metadata": {
  "kernelspec": {
   "display_name": "Python 3",
   "language": "python",
   "name": "python3"
  },
  "language_info": {
   "codemirror_mode": {
    "name": "ipython",
    "version": 3
   },
   "file_extension": ".py",
   "mimetype": "text/x-python",
   "name": "python",
   "nbconvert_exporter": "python",
   "pygments_lexer": "ipython3",
   "version": "3.8.5"
  }
 },
 "nbformat": 4,
 "nbformat_minor": 4
}
